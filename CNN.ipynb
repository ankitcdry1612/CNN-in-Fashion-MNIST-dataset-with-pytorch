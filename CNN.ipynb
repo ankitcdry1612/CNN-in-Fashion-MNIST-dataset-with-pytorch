{
  "nbformat": 4,
  "nbformat_minor": 0,
  "metadata": {
    "colab": {
      "name": "CNN.ipynb",
      "provenance": [],
      "collapsed_sections": []
    },
    "kernelspec": {
      "name": "python3",
      "display_name": "Python 3"
    },
    "accelerator": "GPU"
  },
  "cells": [
    {
      "cell_type": "code",
      "metadata": {
        "id": "URzLSv593cf4",
        "colab_type": "code",
        "outputId": "e84787ad-43c3-4d11-9bb8-41f7919ad61f",
        "colab": {
          "base_uri": "https://localhost:8080/",
          "height": 119
        }
      },
      "source": [
        "pip install torchvision"
      ],
      "execution_count": 0,
      "outputs": [
        {
          "output_type": "stream",
          "text": [
            "Requirement already satisfied: torchvision in /usr/local/lib/python3.6/dist-packages (0.4.1+cu100)\n",
            "Requirement already satisfied: pillow>=4.1.1 in /usr/local/lib/python3.6/dist-packages (from torchvision) (4.3.0)\n",
            "Requirement already satisfied: torch==1.3.0 in /usr/local/lib/python3.6/dist-packages (from torchvision) (1.3.0+cu100)\n",
            "Requirement already satisfied: numpy in /usr/local/lib/python3.6/dist-packages (from torchvision) (1.17.3)\n",
            "Requirement already satisfied: six in /usr/local/lib/python3.6/dist-packages (from torchvision) (1.12.0)\n",
            "Requirement already satisfied: olefile in /usr/local/lib/python3.6/dist-packages (from pillow>=4.1.1->torchvision) (0.46)\n"
          ],
          "name": "stdout"
        }
      ]
    },
    {
      "cell_type": "code",
      "metadata": {
        "id": "WNIry1iG3vZb",
        "colab_type": "code",
        "colab": {}
      },
      "source": [
        "import torch\n",
        "import torchvision\n",
        "import torchvision.datasets as datasets\n",
        "import torch.nn as nn\n",
        "import torch.nn.functional as F\n",
        "import numpy as np\n",
        "import torchvision.transforms as transforms\n",
        "from torch.autograd import Variable"
      ],
      "execution_count": 0,
      "outputs": []
    },
    {
      "cell_type": "code",
      "metadata": {
        "id": "eLcpRdPOxxvH",
        "colab_type": "code",
        "colab": {}
      },
      "source": [
        "class Net(nn.Module):\n",
        "\n",
        "\tdef __init__(self):\n",
        "\t\tsuper(Net,self).__init__()\n",
        "\t\tself.cnn1 = nn.Conv2d(in_channels=1,out_channels=16,kernel_size=5,stride=1,padding=0)\n",
        "\t\tself.bc1 = nn.BatchNorm2d(16)\n",
        "\t\tself.relu1 = nn.ReLU()\n",
        "\n",
        "\t\tself.pool1 = nn.AvgPool2d(kernel_size=2)\n",
        "\n",
        "\t\tself.cnn2 = nn.Conv2d(in_channels=16,out_channels=32,kernel_size=5,stride=1,padding=0)\n",
        "\t\tself.bc2 = nn.BatchNorm2d(32)\n",
        "\t\tself.relu2 = nn.ReLU()\n",
        "\n",
        "\t\tself.pool2 = nn.AvgPool2d(kernel_size=2)\n",
        "\n",
        "\t\tself.dropout = nn.Dropout(0.5)\n",
        "\n",
        "\t\tself.fc1 = nn.Linear(32*4*4,10)\n",
        "\n",
        "\tdef forward(self,x):\n",
        "\t\tout = self.cnn1(x)\n",
        "\t\tout = self.bc1(out)\n",
        "\t\tout = self.relu1(out)\n",
        "\n",
        "\t\tout = self.pool1(out)\n",
        "\n",
        "\t\tout = self.cnn2(out)\n",
        "\t\tout = self.bc2(out)\n",
        "\t\tout = self.relu2(out)\n",
        "\n",
        "\t\tout = self.pool2(out)\n",
        "\n",
        "\t\tout = out.view(out.size(0),-1)\n",
        "\t\tout = self.dropout(out)\n",
        "\n",
        "\t\tout = self.fc1(out)\n",
        "\t\treturn out"
      ],
      "execution_count": 0,
      "outputs": []
    },
    {
      "cell_type": "code",
      "metadata": {
        "id": "7m1aQe8yTOAT",
        "colab_type": "code",
        "outputId": "1d4bcfad-eef1-43cd-b785-8e673f284c81",
        "colab": {
          "base_uri": "https://localhost:8080/",
          "height": 275
        }
      },
      "source": [
        "net = Net()\n",
        "\n",
        "num_epochs = 5\n",
        "num_classes = 10\n",
        "batch_size = 100\n",
        "learning_rate = 0.001\n",
        "\n",
        "x = datasets.FashionMNIST(root='./data',train=True,download=True,transform=transforms.Compose([transforms.ToTensor(),transforms.Normalize((0.1307,), (0.3081,))]))\n",
        "train_loader = torch.utils.data.DataLoader(x,batch_size=batch_size,shuffle=True)\n",
        "\n",
        "x_test = datasets.FashionMNIST(root='./data',train=False,download=True,transform=transforms.Compose([transforms.ToTensor(),transforms.Normalize((0.1307,), (0.3081,))]))\n",
        "test_loader = torch.utils.data.DataLoader(x_test,batch_size=batch_size,shuffle=False)"
      ],
      "execution_count": 0,
      "outputs": [
        {
          "output_type": "stream",
          "text": [
            "  0%|          | 16384/26421880 [00:00<02:44, 160251.38it/s]"
          ],
          "name": "stderr"
        },
        {
          "output_type": "stream",
          "text": [
            "Downloading http://fashion-mnist.s3-website.eu-central-1.amazonaws.com/train-images-idx3-ubyte.gz to ./data/FashionMNIST/raw/train-images-idx3-ubyte.gz\n"
          ],
          "name": "stdout"
        },
        {
          "output_type": "stream",
          "text": [
            "26427392it [00:00, 79650623.64it/s]                            \n"
          ],
          "name": "stderr"
        },
        {
          "output_type": "stream",
          "text": [
            "Extracting ./data/FashionMNIST/raw/train-images-idx3-ubyte.gz to ./data/FashionMNIST/raw\n"
          ],
          "name": "stdout"
        },
        {
          "output_type": "stream",
          "text": [
            "32768it [00:00, 195780.87it/s]           \n",
            "0it [00:00, ?it/s]"
          ],
          "name": "stderr"
        },
        {
          "output_type": "stream",
          "text": [
            "Downloading http://fashion-mnist.s3-website.eu-central-1.amazonaws.com/train-labels-idx1-ubyte.gz to ./data/FashionMNIST/raw/train-labels-idx1-ubyte.gz\n",
            "Extracting ./data/FashionMNIST/raw/train-labels-idx1-ubyte.gz to ./data/FashionMNIST/raw\n",
            "Downloading http://fashion-mnist.s3-website.eu-central-1.amazonaws.com/t10k-images-idx3-ubyte.gz to ./data/FashionMNIST/raw/t10k-images-idx3-ubyte.gz\n"
          ],
          "name": "stdout"
        },
        {
          "output_type": "stream",
          "text": [
            "4423680it [00:00, 31779969.89it/s]                           \n",
            "8192it [00:00, 182059.57it/s]\n"
          ],
          "name": "stderr"
        },
        {
          "output_type": "stream",
          "text": [
            "Extracting ./data/FashionMNIST/raw/t10k-images-idx3-ubyte.gz to ./data/FashionMNIST/raw\n",
            "Downloading http://fashion-mnist.s3-website.eu-central-1.amazonaws.com/t10k-labels-idx1-ubyte.gz to ./data/FashionMNIST/raw/t10k-labels-idx1-ubyte.gz\n",
            "Extracting ./data/FashionMNIST/raw/t10k-labels-idx1-ubyte.gz to ./data/FashionMNIST/raw\n",
            "Processing...\n",
            "Done!\n"
          ],
          "name": "stdout"
        }
      ]
    },
    {
      "cell_type": "code",
      "metadata": {
        "id": "wlWiIzVyTfmY",
        "colab_type": "code",
        "outputId": "eeae9a40-784f-415b-9cb6-3e92b504d750",
        "colab": {
          "base_uri": "https://localhost:8080/",
          "height": 391
        }
      },
      "source": [
        "criterion = nn.CrossEntropyLoss()\n",
        "optimizer = torch.optim.SGD(net.parameters(), lr=learning_rate,momentum=0.9)\n",
        "\n",
        "print(\"Start Training\")\n",
        "train_loss=[]\n",
        "test_loss=[]\n",
        "for epoch in range(num_epochs+5):\n",
        "  training_loss=0\n",
        "  testing_loss=0\n",
        "  total=0\n",
        "  tot=0\n",
        "  correct=0\n",
        "  for i,(images,labels) in enumerate(train_loader):\n",
        "\t\t\n",
        "    images = Variable(images)\n",
        "    labels = Variable(labels)\n",
        "\n",
        "    optimizer.zero_grad()\n",
        "    outputs=net(images)\n",
        "    loss = criterion(outputs,labels)\n",
        "    loss.backward()\n",
        "    optimizer.step()\n",
        "    total+=1\n",
        "    training_loss+=loss.item()\n",
        "\n",
        "    _, predicted = torch.max(outputs.data,1)\n",
        "    tot+=labels.size(0)\n",
        "    correct+=(predicted==labels).sum()\n",
        "  accuracy=100*correct/tot\n",
        "  train_loss.append(training_loss/total)\n",
        "  print(\"epochs : \",epoch+1,\" Loss : \",training_loss/total,\" accuracy : \",accuracy.item())\n",
        "\n",
        "  correct = 0\n",
        "  total = 0\n",
        "  tot = 0\n",
        "  for images, labels in test_loader:\n",
        "    images = Variable(images)\n",
        "    outputs = net(images)\n",
        "    loss = criterion(outputs,labels)\n",
        "    total+=1\n",
        "    testing_loss+=loss.item()\n",
        "\n",
        "    _, predicted = torch.max(outputs.data,1)\n",
        "    tot+=labels.size(0)\n",
        "    correct += (predicted==labels).sum()\n",
        "  accuracy = 100*correct/tot\n",
        "  test_loss.append(testing_loss/total)\n",
        "  print(\"epochs : \",epoch+1,\" Loss : \",testing_loss/total,\" accuracy : \",accuracy.item())\n",
        "\n",
        "\n",
        "print('Finished Training')"
      ],
      "execution_count": 0,
      "outputs": [
        {
          "output_type": "stream",
          "text": [
            "Start Training\n",
            "epochs :  1  Loss :  0.8276727861662706  accuracy :  71\n",
            "epochs :  1  Loss :  0.6289450880885125  accuracy :  76\n",
            "epochs :  2  Loss :  0.5691280015806357  accuracy :  79\n",
            "epochs :  2  Loss :  0.5506010195612907  accuracy :  79\n",
            "epochs :  3  Loss :  0.5081151102483272  accuracy :  81\n",
            "epochs :  3  Loss :  0.5085018703341484  accuracy :  81\n",
            "epochs :  4  Loss :  0.4721933157245318  accuracy :  82\n",
            "epochs :  4  Loss :  0.47840488463640213  accuracy :  82\n",
            "epochs :  5  Loss :  0.4500099651515484  accuracy :  83\n",
            "epochs :  5  Loss :  0.4571089342236519  accuracy :  83\n",
            "epochs :  6  Loss :  0.435581574489673  accuracy :  84\n",
            "epochs :  6  Loss :  0.45082277834415435  accuracy :  83\n",
            "epochs :  7  Loss :  0.4208529891818762  accuracy :  84\n",
            "epochs :  7  Loss :  0.4379638212919235  accuracy :  84\n",
            "epochs :  8  Loss :  0.41194467462599277  accuracy :  85\n",
            "epochs :  8  Loss :  0.4247311964631081  accuracy :  84\n",
            "epochs :  9  Loss :  0.39980293571949005  accuracy :  85\n",
            "epochs :  9  Loss :  0.4210038533806801  accuracy :  84\n",
            "epochs :  10  Loss :  0.39184647289415203  accuracy :  85\n",
            "epochs :  10  Loss :  0.4107585173845291  accuracy :  85\n",
            "Finished Training\n"
          ],
          "name": "stdout"
        }
      ]
    },
    {
      "cell_type": "code",
      "metadata": {
        "id": "4oK_mCQ9i4dk",
        "colab_type": "code",
        "colab": {}
      },
      "source": [
        "predict = []\n",
        "expected = []\n",
        "for images, labels in test_loader:\n",
        "    images = Variable(images)\n",
        "    output = net(images)\n",
        "\n",
        "    _, predicted = torch.max(output.data,1)\n",
        "    for i in range(len(predicted)):\n",
        "        predict.append(predicted[i].item())\n",
        "        expected.append(labels[i].item())"
      ],
      "execution_count": 0,
      "outputs": []
    },
    {
      "cell_type": "code",
      "metadata": {
        "id": "9Xin9dZBkyYr",
        "colab_type": "code",
        "outputId": "76f4c147-8738-4fa5-9448-fc091247602c",
        "colab": {
          "base_uri": "https://localhost:8080/",
          "height": 204
        }
      },
      "source": [
        "from sklearn.metrics import confusion_matrix\n",
        "print(\"Testing set confusion matrix\")\n",
        "confusion_matrix(expected,predict)"
      ],
      "execution_count": 0,
      "outputs": [
        {
          "output_type": "stream",
          "text": [
            "Testing set confusion matrix\n"
          ],
          "name": "stdout"
        },
        {
          "output_type": "execute_result",
          "data": {
            "text/plain": [
              "array([[819,   1,  19,  35,   8,   1, 102,   0,  15,   0],\n",
              "       [  0, 968,   1,  22,   5,   0,   2,   0,   2,   0],\n",
              "       [ 18,   2, 765,   9,  95,   0, 104,   0,   7,   0],\n",
              "       [ 23,  17,  12, 862,  38,   2,  44,   0,   2,   0],\n",
              "       [  2,   2,  80,  33, 772,   0, 107,   0,   4,   0],\n",
              "       [  0,   0,   0,   2,   0, 931,   0,  46,   6,  15],\n",
              "       [164,   1,  90,  20, 109,   2, 603,   0,  11,   0],\n",
              "       [  0,   0,   0,   0,   0,  14,   0, 933,   1,  52],\n",
              "       [  1,   0,   8,   5,   6,   7,  13,   6, 954,   0],\n",
              "       [  0,   0,   0,   0,   0,   7,   1,  36,   1, 955]])"
            ]
          },
          "metadata": {
            "tags": []
          },
          "execution_count": 9
        }
      ]
    },
    {
      "cell_type": "code",
      "metadata": {
        "id": "o0UfVtLixqYq",
        "colab_type": "code",
        "colab": {}
      },
      "source": [
        "predict = []\n",
        "expected = []\n",
        "for images, labels in train_loader:\n",
        "    images = Variable(images)\n",
        "    output = net(images)\n",
        "\n",
        "    _, predicted = torch.max(output.data,1)\n",
        "    for i in range(len(predicted)):\n",
        "        predict.append(predicted[i].item())\n",
        "        expected.append(labels[i].item())"
      ],
      "execution_count": 0,
      "outputs": []
    },
    {
      "cell_type": "code",
      "metadata": {
        "id": "i2pJyBjQxt8s",
        "colab_type": "code",
        "outputId": "d0cd66ce-8653-483c-b6f7-1fb3a922673c",
        "colab": {
          "base_uri": "https://localhost:8080/",
          "height": 204
        }
      },
      "source": [
        "print(\"Training set confusion matrix\")\n",
        "confusion_matrix(expected,predict)"
      ],
      "execution_count": 0,
      "outputs": [
        {
          "output_type": "stream",
          "text": [
            "Training set confusion matrix\n"
          ],
          "name": "stdout"
        },
        {
          "output_type": "execute_result",
          "data": {
            "text/plain": [
              "array([[5034,   11,   94,  190,   27,   11,  561,    3,   69,    0],\n",
              "       [  13, 5842,   16,   83,   11,    2,   28,    0,    5,    0],\n",
              "       [  72,    3, 4605,   52,  617,    5,  612,    0,   34,    0],\n",
              "       [ 169,   96,   39, 5255,  206,    4,  207,    1,   19,    4],\n",
              "       [  13,   17,  402,  202, 4717,    3,  627,    0,   19,    0],\n",
              "       [   2,    4,    1,    1,    0, 5598,    0,  279,   32,   83],\n",
              "       [ 990,   17,  550,  148,  547,    6, 3685,    0,   57,    0],\n",
              "       [   0,    0,    0,    0,    0,  108,    0, 5563,   13,  316],\n",
              "       [  26,    5,   40,   27,   34,   18,   99,   15, 5732,    4],\n",
              "       [   0,    0,    0,    1,    1,   40,    3,  199,    6, 5750]])"
            ]
          },
          "metadata": {
            "tags": []
          },
          "execution_count": 50
        }
      ]
    },
    {
      "cell_type": "code",
      "metadata": {
        "id": "nyqIeRgjt0fx",
        "colab_type": "code",
        "outputId": "096cae49-1613-4295-f785-e402cb4d952f",
        "colab": {
          "base_uri": "https://localhost:8080/",
          "height": 573
        }
      },
      "source": [
        "import matplotlib.pyplot as plt\n",
        "plt.plot([1,2,3,4,5,6,7,8,9,10],train_loss)\n",
        "plt.ylabel(\"Loss\")\n",
        "plt.xlabel(\"epochs\")\n",
        "plt.title(\"Loss per epochs in training set\")\n",
        "plt.show()\n",
        "\n",
        "plt.plot([1,2,3,4,5,6,7,8,9,10],test_loss)\n",
        "plt.ylabel(\"Loss\")\n",
        "plt.xlabel(\"epochs\")\n",
        "plt.title(\"Loss per epochs in testing set\")\n",
        "plt.show()"
      ],
      "execution_count": 0,
      "outputs": [
        {
          "output_type": "display_data",
          "data": {
            "image/png": "[encoded data removed]",
            "text/plain": [
              "<Figure size 432x288 with 1 Axes>"
            ]
          },
          "metadata": {
            "tags": []
          }
        },
        {
          "output_type": "display_data",
          "data": {
            "image/png": "[encoded data removed]",
            "text/plain": [
              "<Figure size 432x288 with 1 Axes>"
            ]
          },
          "metadata": {
            "tags": []
          }
        }
      ]
    },
    {
      "cell_type": "code",
      "metadata": {
        "id": "oRJIJ5XQzpd0",
        "colab_type": "code",
        "outputId": "0bd4b453-1bab-465f-a915-90bdc94e250e",
        "colab": {
          "base_uri": "https://localhost:8080/",
          "height": 85
        }
      },
      "source": [
        "X_Train = []\n",
        "Y_Train = []\n",
        "for images, labels in train_loader:\n",
        "    images = Variable(images)\n",
        "    output = net(images)\n",
        "    for i in range(len(output)):\n",
        "        X_Train.append(list(np.array(output.detach())[i]))\n",
        "    for i in range(len(labels)):\n",
        "        Y_Train.append(np.array(labels)[i])\n",
        "\n",
        "X_Train = np.array(X_Train)\n",
        "Y_Train = np.array(Y_Train)\n",
        "\n",
        "\n",
        "\n",
        "X = []\n",
        "Y = []\n",
        "for images, labels in test_loader:\n",
        "    images = Variable(images)\n",
        "    output = net(images)\n",
        "    for i in range(len(output)):\n",
        "        X.append(list(np.array(output.detach())[i]))\n",
        "    for i in range(len(labels)):\n",
        "        Y.append(np.array(labels)[i])\n",
        "\n",
        "X = np.array(X)\n",
        "Y = np.array(Y)\n",
        "\n",
        "from sklearn.svm import SVC\n",
        "clf = SVC(kernel='rbf',gamma='scale')\n",
        "clf.fit(X_Train,Y_Train)"
      ],
      "execution_count": 0,
      "outputs": [
        {
          "output_type": "execute_result",
          "data": {
            "text/plain": [
              "SVC(C=1.0, cache_size=200, class_weight=None, coef0=0.0,\n",
              "    decision_function_shape='ovr', degree=3, gamma='scale', kernel='rbf',\n",
              "    max_iter=-1, probability=False, random_state=None, shrinking=True,\n",
              "    tol=0.001, verbose=False)"
            ]
          },
          "metadata": {
            "tags": []
          },
          "execution_count": 43
        }
      ]
    },
    {
      "cell_type": "code",
      "metadata": {
        "id": "p02iDcWz2ghi",
        "colab_type": "code",
        "outputId": "df0691dc-9178-40f0-9757-0fe3d417462a",
        "colab": {
          "base_uri": "https://localhost:8080/",
          "height": 408
        }
      },
      "source": [
        "pred_train = clf.predict(X_Train)\n",
        "c = confusion_matrix(Y_Train,pred_train)\n",
        "accuracy = (pred_train==Y_Train).mean()\n",
        "print(\"Training accuracy : \",accuracy)\n",
        "print(c)\n",
        "print()\n",
        "pred_test = clf.predict(X)\n",
        "c = confusion_matrix(Y,pred_test)\n",
        "accuracy = (pred_test==Y).mean()\n",
        "print(\"Testing accuracy : \",accuracy)\n",
        "print(c)"
      ],
      "execution_count": 0,
      "outputs": [
        {
          "output_type": "stream",
          "text": [
            "Training accuracy :  0.8674833333333334\n",
            "[[5135    6   87  223   25   10  435    0   77    2]\n",
            " [   9 5811    9  134   14    2   16    0    4    1]\n",
            " [  85    8 4743   46  602    3  476    0   37    0]\n",
            " [ 184   53   30 5366  190    1  160    1   13    2]\n",
            " [  13   11  436  218 4828    0  476    0   18    0]\n",
            " [   3    0    0    1    0 5667    0  222   33   74]\n",
            " [1115   12  625  187  571    3 3417    0   70    0]\n",
            " [   0    0    0    0    0  162    0 5604   10  224]\n",
            " [  26    4   42   25   26   27   73   11 5764    2]\n",
            " [   0    1    0    0    1   61    0  216    7 5714]]\n",
            "\n",
            "Testing accuracy :  0.8614\n",
            "[[845   0  19  38   9   1  69   0  19   0]\n",
            " [  2 963   1  24   5   0   3   0   2   0]\n",
            " [ 17   2 777  10 108   0  82   0   4   0]\n",
            " [ 27   4  14 890  25   0  38   0   2   0]\n",
            " [  2   2  87  43 784   0  80   0   2   0]\n",
            " [  0   0   0   1   0 939   0  40   2  18]\n",
            " [179   4 100  27 106   0 567   0  17   0]\n",
            " [  0   0   0   0   0  25   0 939   1  35]\n",
            " [  2   1   7   4   3   2  14   4 962   1]\n",
            " [  0   0   0   0   0   9   0  42   1 948]]\n"
          ],
          "name": "stdout"
        }
      ]
    }
  ]
}